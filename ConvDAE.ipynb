{
  "cells": [
    {
      "cell_type": "markdown",
      "metadata": {
        "colab_type": "text",
        "id": "view-in-github"
      },
      "source": [
        "<a href=\"https://colab.research.google.com/github/badadumTss/convDAE/blob/main/ConvDAE.ipynb\" target=\"_parent\"><img src=\"https://colab.research.google.com/assets/colab-badge.svg\" alt=\"Open In Colab\"/></a>"
      ]
    },
    {
      "cell_type": "markdown",
      "metadata": {
        "id": "mx4uwlz1V3RY"
      },
      "source": [
        "# Imports, background\n",
        "As backend for this project we'll use [tensorflow.keras](https://keras.io/), Google's deep learning API. Along with that numpy is very useful to apply all sorts of transformations to the tensors and vector rapresenting our data (e.g. adding noise to an image)."
      ]
    },
    {
      "cell_type": "code",
      "execution_count": null,
      "metadata": {
        "id": "qzFzaj5ZpMSM"
      },
      "outputs": [],
      "source": [
        "from tensorflow.keras.layers import BatchNormalization\n",
        "from tensorflow.keras.layers import Conv2D\n",
        "from tensorflow.keras.layers import Conv2DTranspose\n",
        "from tensorflow.keras.layers import LeakyReLU\n",
        "from tensorflow.keras.layers import Activation\n",
        "from tensorflow.keras.layers import Flatten\n",
        "from tensorflow.keras.layers import Dense\n",
        "from tensorflow.keras.layers import Reshape\n",
        "from tensorflow.keras.layers import Input\n",
        "from tensorflow.keras.models import Model\n",
        "from tensorflow.keras.optimizers import Adam, SGD\n",
        "from tensorflow.keras.datasets import cifar10\n",
        "from tensorflow.keras.regularizers import L1\n",
        "from tensorflow.keras import backend as K\n",
        "import tensorflow.keras\n",
        "import numpy as np\n",
        "import matplotlib.pyplot as plt\n",
        "import matplotlib\n",
        "matplotlib.use(\"Agg\") # set the matplotlib backend to save images asyncronously\n",
        "import cv2"
      ]
    },
    {
      "cell_type": "markdown",
      "metadata": {
        "id": "qp4Km31fW9tl"
      },
      "source": [
        "# The dataset, CIFAR10\n",
        "The choosen dataset for this project is the CIFAR10 dataset. It is a collection of 60000 32x32 colour images grouped in 10 classes, with 6000 images per class (source: [CIFAR10 site](https://www.cs.toronto.edu/~kriz/cifar.html)). This dataset is very suited for the project because the images are not particularly big (32x32 is easily rapresentable with a vector) and has a lot of samples to choose from. It also is one of the default datasets included in the TensorFlow library, so download it is relatively easy."
      ]
    },
    {
      "cell_type": "code",
      "execution_count": null,
      "metadata": {
        "colab": {
          "base_uri": "https://localhost:8080/"
        },
        "id": "UKxu7yrZXA9k",
        "outputId": "40a6000a-5927-4920-ea52-f85421ebb8d1"
      },
      "outputs": [],
      "source": [
        "print(\"[INFO] loading CIFAR10 dataset...\")\n",
        "((trainX, _), (testX, _)) = cifar10.load_data()\n",
        "\n",
        "trainX = trainX.astype(\"float32\") / 255.0\n",
        "testX = testX.astype(\"float32\") / 255.0\n",
        "\n",
        "def add_noise_and_clip_data(data):\n",
        "   noise = np.random.normal(loc=0.0, scale=0.1, size=data.shape)\n",
        "   data = data + noise\n",
        "   data = np.clip(data, 0., 1.)\n",
        "   return data\n",
        "\n",
        "trainXNoisy = add_noise_and_clip_data(trainX)\n",
        "testXNoisy = add_noise_and_clip_data(testX)"
      ]
    },
    {
      "cell_type": "markdown",
      "metadata": {
        "id": "6X2UcRmyjMt4"
      },
      "source": [
        "# The LinearAutoencoder"
      ]
    },
    {
      "cell_type": "code",
      "execution_count": null,
      "metadata": {
        "id": "HwPKFBXRjPnb"
      },
      "outputs": [],
      "source": [
        "class LinearAutoencoder:\n",
        "  @staticmethod\n",
        "  def build(width, height, depth, filters=(32,64), latentDim=16):\n",
        "    inputShape = height * width * depth\n",
        "    channelDim = -1\n",
        "    inputs = Input(shape=(inputShape,))\n",
        "    x = inputs\n",
        "    for f in reversed(filters):\n",
        "      x = Dense(units=f)(x)\n",
        "      x = BatchNormalization()(x)\n",
        "      x = LeakyReLU()(x)\n",
        "    # encoded space\n",
        "    latent = Dense(units=latentDim,\n",
        "              activation='linear',\n",
        "              activity_regularizer=L1(0.0001))(x)\n",
        "    # encoder\n",
        "    encoder = Model(inputs, latent, name='encoder')\n",
        "    # decoder start\n",
        "    latentInputs = Input(shape=(latentDim,))\n",
        "    y = latentInputs\n",
        "    for f in filters:\n",
        "      y = Dense(units=f)(y)\n",
        "      y = BatchNormalization()(y)\n",
        "      y = LeakyReLU()(y)\n",
        "    \n",
        "    outputs = Dense(units=inputShape, activation='sigmoid')(y)\n",
        "    decoder = Model(latentInputs, outputs, name='decoder')\n",
        "    autoencoder = Model(inputs, outputs, decoder(encoder(inputs)), name='autoencoder')\n",
        "    return (encoder, decoder, autoencoder)"
      ]
    },
    {
      "cell_type": "markdown",
      "metadata": {
        "id": "g3qM8KhcWe5l"
      },
      "source": [
        "# The ConvAutoencoder\n"
      ]
    },
    {
      "cell_type": "code",
      "execution_count": null,
      "metadata": {
        "id": "R4F0w3_gVJgV"
      },
      "outputs": [],
      "source": [
        "class ConvAutoencoder:\n",
        "\t@staticmethod\n",
        "\tdef build(width, height, depth, filters=(32, 64), latentDim=16):\n",
        "\t\t# initialize the input shape to be \"channels last\" along with\n",
        "\t\t# the channels dimension itself\n",
        "\t\t# channels dimension itself\n",
        "\t\tinputShape = (height, width, depth)\n",
        "\t\tchanDim = -1\n",
        "\t\t# define the input to the encoder\n",
        "\t\tinputs = Input(shape=inputShape)\n",
        "\t\tx = inputs\n",
        "\t\t# loop over the number of filters\n",
        "\t\tfor f in filters:\n",
        "\t\t\t# apply a CONV => RELU => BN operation\n",
        "\t\t\tx = Conv2D(f, (3, 3), strides=2, padding=\"same\")(x)\n",
        "\t\t\tx = LeakyReLU(alpha=0.2)(x)\n",
        "\t\t\tx = BatchNormalization(axis=chanDim)(x)\n",
        "\t\t# flatten the network and then construct our latent vector\n",
        "\t\tvolumeSize = K.int_shape(x)\n",
        "\t\tx = Flatten()(x)\n",
        "\t\tlatent = Dense(latentDim)(x)\n",
        "\t\t# build the encoder model\n",
        "\t\tencoder = Model(inputs, latent, name=\"encoder\")\n",
        "\t\t# start building the decoder model which will accept the\n",
        "\t\t# output of the encoder as its inputs\n",
        "\t\tlatentInputs = Input(shape=(latentDim,))\n",
        "\t\tx = Dense(np.prod(volumeSize[1:]))(latentInputs)\n",
        "\t\tx = Reshape((volumeSize[1], volumeSize[2], volumeSize[3]))(x)\n",
        "\t\t# loop over our number of filters again, but this time in\n",
        "\t\t# reverse order\n",
        "\t\tfor f in filters[::-1]:\n",
        "\t\t\t# apply a CONV_TRANSPOSE => RELU => BN operation\n",
        "\t\t\tx = Conv2DTranspose(f, (3, 3), strides=2,\n",
        "\t\t\t\tpadding=\"same\")(x)\n",
        "\t\t\tx = LeakyReLU(alpha=0.2)(x)\n",
        "\t\t\tx = BatchNormalization(axis=chanDim)(x)\n",
        "\t\t# apply a single CONV_TRANSPOSE layer used to recover the\n",
        "\t\t# original depth of the image\n",
        "\t\tx = Conv2DTranspose(depth, (3, 3), padding=\"same\")(x)\n",
        "\t\toutputs = Activation(\"sigmoid\")(x)\n",
        "\t\t# build the decoder model\n",
        "\t\tdecoder = Model(latentInputs, outputs, name=\"decoder\")\n",
        "\t\t# our autoencoder is the encoder + decoder\n",
        "\t\tautoencoder = Model(inputs, decoder(encoder(inputs)),\n",
        "\t\t\tname=\"autoencoder\")\n",
        "\t\t# return a 3-tuple of the encoder, decoder, and autoencoder\n",
        "\t\treturn (encoder, decoder, autoencoder)"
      ]
    },
    {
      "cell_type": "markdown",
      "metadata": {
        "id": "SJN6BPAAzHNH"
      },
      "source": [
        "## The test function"
      ]
    },
    {
      "cell_type": "markdown",
      "metadata": {
        "id": "YpQZJsNo0I3d"
      },
      "source": [
        "In order to use wandb we also have to login, the given key is my personal test key, feel free to use it for now"
      ]
    },
    {
      "cell_type": "code",
      "execution_count": null,
      "metadata": {
        "colab": {
          "base_uri": "https://localhost:8080/"
        },
        "id": "WO9pcIvWo-8y",
        "outputId": "445ced8d-c4b0-454d-ee83-d24546457107"
      },
      "outputs": [],
      "source": [
        "!pip install wandb -qqq\n",
        "import wandb\n",
        "\n",
        "wandb.login()"
      ]
    },
    {
      "cell_type": "markdown",
      "metadata": {
        "id": "mXM-8Uhn10ub"
      },
      "source": [
        "### Configure wandb\n",
        "In this section we'll configure sweep, one of wandb products that allows for optimal hyperparameter search."
      ]
    },
    {
      "cell_type": "code",
      "execution_count": null,
      "metadata": {
        "id": "FSfs4uwO13dJ"
      },
      "outputs": [],
      "source": [
        "sweep_config = {\n",
        "    'method': 'random',\n",
        "    'metric': {\n",
        "        'name': 'loss',\n",
        "        'goal': 'minimize'\n",
        "    }\n",
        "}\n",
        "\n",
        "params = {\n",
        "    'model': {\n",
        "        'values': ['linear', 'convolutional']\n",
        "    },\n",
        "    'epochs': {\n",
        "        'value': 5\n",
        "    },\n",
        "    'batch_size': {\n",
        "        'value': 32\n",
        "    },\n",
        "    'latent_dim': {\n",
        "        'values': [128, 32, 16]\n",
        "    },\n",
        "    'filters': {\n",
        "        'values': [(32, 64), (32, 64, 128)]\n",
        "    },\n",
        "    'learning_rate': {\n",
        "        'values': [1e-4, 1e-3, 0.01]\n",
        "    }\n",
        "}\n",
        "\n",
        "sweep_config['parameters'] = params\n"
      ]
    },
    {
      "cell_type": "markdown",
      "metadata": {
        "id": "J5UrAcJS3bUI"
      },
      "source": [
        "## Initialize the sweep"
      ]
    },
    {
      "cell_type": "code",
      "execution_count": null,
      "metadata": {
        "colab": {
          "base_uri": "https://localhost:8080/"
        },
        "id": "WWs9TYCK3evF",
        "outputId": "6836fdea-84f5-4519-bc33-a4345bab02df"
      },
      "outputs": [],
      "source": [
        "sweep_id = wandb.sweep(sweep_config, project=\"convDAE\")"
      ]
    },
    {
      "cell_type": "markdown",
      "metadata": {
        "id": "1sM-x-fE3piP"
      },
      "source": [
        "# Define the training\n"
      ]
    },
    {
      "cell_type": "code",
      "execution_count": null,
      "metadata": {
        "id": "5G8cWHETpljn"
      },
      "outputs": [],
      "source": [
        "def build_model(config):\n",
        "  if config.model == 'linear':\n",
        "    return LinearAutoencoder.build(32, 32, 3, filters=config.filters, latentDim=config.latent_dim)\n",
        "  if config.model == 'convolutional':\n",
        "    return ConvAutoencoder.build(32, 32, 3, filters=config.filters, latentDim=config.latent_dim)"
      ]
    },
    {
      "cell_type": "code",
      "execution_count": null,
      "metadata": {
        "id": "EMovZgHi3tYV"
      },
      "outputs": [],
      "source": [
        "def train(config=None):\n",
        "  with wandb.init(config=config):\n",
        "    config = wandb.config\n",
        "    optimizer = Adam(learning_rate = config.learning_rate)\n",
        "    # construct our convolutional autoencoder\n",
        "    print(\"[INFO] building autoencoder...\")\n",
        "    (encoder, decoder, autoencoder) = build_model(config)\n",
        "\n",
        "    global trainXNoisy\n",
        "    global trainX\n",
        "    if config.model == 'linear':\n",
        "      trainXNoisy = trainXNoisy.reshape(50000, 3072)\n",
        "      trainX = trainX.reshape(50000, 3072)\n",
        "    \n",
        "    autoencoder.compile(loss=\"mse\", optimizer=optimizer, metrics=['accuracy'])\n",
        "    # train the convolutional autoencoder\n",
        "    H = autoencoder.fit(\n",
        "\t    trainXNoisy, trainX,\n",
        "\t    validation_data=(testXNoisy, testX),\n",
        "\t    epochs=config.epochs,\n",
        "\t    batch_size=config.batch_size\n",
        "    )\n",
        "    \n",
        "    wandb.log({'epochs': config.epochs,\n",
        "                'loss': np.mean(H.history['loss']),\n",
        "                'val_loss': np.mean(H.history['val_loss'])})\n",
        "    del encoder\n",
        "    del decoder\n",
        "    del autoencoder\n",
        "    "
      ]
    },
    {
      "cell_type": "markdown",
      "metadata": {
        "id": "2Otan6KO614E"
      },
      "source": [
        "# Run the sweeper"
      ]
    },
    {
      "cell_type": "code",
      "execution_count": null,
      "metadata": {
        "colab": {
          "base_uri": "https://localhost:8080/",
          "height": 260
        },
        "id": "6wnmThZ061MO",
        "outputId": "39cd6758-4a36-43e8-b40a-02d8d05ff109"
      },
      "outputs": [],
      "source": [
        "wandb.agent(sweep_id, train, count=5)"
      ]
    }
  ],
  "metadata": {
    "accelerator": "GPU",
    "colab": {
      "authorship_tag": "ABX9TyPq4s5xeJ6rCj8gC99qOAC1",
      "include_colab_link": true,
      "name": "ConvDAE.ipynb",
      "provenance": []
    },
    "gpuClass": "standard",
    "kernelspec": {
      "display_name": "Python 3.10.4 64-bit",
      "language": "python",
      "name": "python3"
    },
    "language_info": {
      "codemirror_mode": {
        "name": "ipython",
        "version": 3
      },
      "file_extension": ".py",
      "mimetype": "text/x-python",
      "name": "python",
      "nbconvert_exporter": "python",
      "pygments_lexer": "ipython3",
      "version": "3.10.4"
    },
    "vscode": {
      "interpreter": {
        "hash": "916dbcbb3f70747c44a77c7bcd40155683ae19c65e1c03b4aa3499c5328201f1"
      }
    }
  },
  "nbformat": 4,
  "nbformat_minor": 0
}
