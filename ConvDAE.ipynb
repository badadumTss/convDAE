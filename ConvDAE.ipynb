{
  "nbformat": 4,
  "nbformat_minor": 0,
  "metadata": {
    "colab": {
      "name": "ConvDAE.ipynb",
      "provenance": [],
      "authorship_tag": "ABX9TyM7axPvWwTBMocH8dnNMi5l"
    },
    "kernelspec": {
      "name": "python3",
      "display_name": "Python 3"
    },
    "language_info": {
      "name": "python"
    },
    "accelerator": "GPU",
    "gpuClass": "standard"
  },
  "cells": [
    {
      "cell_type": "markdown",
      "source": [
        "# Imports, background\n",
        "As backend for this project we'll use [tensorflow.keras](https://keras.io/), Google's deep learning API. Along with that numpy is very useful to apply all sorts of transformations to the tensors and vector rapresenting our data (e.g. adding noise to an image)."
      ],
      "metadata": {
        "id": "mx4uwlz1V3RY"
      }
    },
    {
      "cell_type": "code",
      "source": [
        "from tensorflow.keras.layers import BatchNormalization\n",
        "from tensorflow.keras.layers import Conv2D\n",
        "from tensorflow.keras.layers import Conv2DTranspose\n",
        "from tensorflow.keras.layers import LeakyReLU\n",
        "from tensorflow.keras.layers import Activation\n",
        "from tensorflow.keras.layers import Flatten\n",
        "from tensorflow.keras.layers import Dense\n",
        "from tensorflow.keras.layers import Reshape\n",
        "from tensorflow.keras.layers import Input\n",
        "from tensorflow.keras.models import Model\n",
        "from tensorflow.keras.optimizers import Adam, SGD\n",
        "from tensorflow.keras.datasets import cifar10\n",
        "from tensorflow.keras import backend as K\n",
        "import numpy as np\n",
        "import matplotlib.pyplot as plt\n",
        "matplotlib.use(\"Agg\") # set the matplotlib backend to save images asyncronously\n",
        "import cv2"
      ],
      "metadata": {
        "id": "qzFzaj5ZpMSM"
      },
      "execution_count": null,
      "outputs": []
    },
    {
      "cell_type": "markdown",
      "source": [
        "# The dataset, CIFAR10\n",
        "The choosen dataset for this project is the CIFAR10 dataset. It is a collection of 60000 32x32 colour images grouped in 10 classes, with 6000 images per class (source: [CIFAR10 site](https://www.cs.toronto.edu/~kriz/cifar.html)). This dataset is very suited for the project because the images are not particularly big (32x32 is easily rapresentable with a vector) and has a lot of samples to choose from. It also is one of the default datasets included in the TensorFlow library, so download it is relatively easy."
      ],
      "metadata": {
        "id": "qp4Km31fW9tl"
      }
    },
    {
      "cell_type": "code",
      "source": [
        "print(\"[INFO] loading CIFAR10 dataset...\")\n",
        "((trainX, _), (testX, _)) = cifar10.load_data()\n",
        "\n",
        "trainX = trainX.astype(\"float32\") / 255.0\n",
        "testX = testX.astype(\"float32\") / 255.0\n",
        "\n",
        "def add_noise_and_clip_data(data):\n",
        "   noise = np.random.normal(loc=0.0, scale=0.1, size=data.shape)\n",
        "   data = data + noise\n",
        "   data = np.clip(data, 0., 1.)\n",
        "   return data\n",
        "\n",
        "trainXNoisy = add_noise_and_clip_data(trainX)\n",
        "testXNoisy = add_noise_and_clip_data(testX)"
      ],
      "metadata": {
        "id": "UKxu7yrZXA9k"
      },
      "execution_count": null,
      "outputs": []
    },
    {
      "cell_type": "markdown",
      "source": [
        "# The LinearAutoencoder"
      ],
      "metadata": {
        "id": "6X2UcRmyjMt4"
      }
    },
    {
      "cell_type": "code",
      "source": [
        "class LinearAutoencoder:\n",
        "  @staticmethod\n",
        "  def build(width, height, depth, filters=(32,64), latentDim=16):\n",
        "    inputShape = height * width * depth\n",
        "    channelDim = -1\n",
        "    inputs = Input(shape=(InputShape,))\n",
        "    x = Inputs\n",
        "    for f in reverse(filters):\n",
        "      x = Dense(units=f)(x)\n",
        "      x = BatchNormalization()(x)\n",
        "      x = LeakyReLU()(x)\n",
        "    # encoded space\n",
        "    latent = Dense(units=latentDim,\n",
        "              activation='linear',\n",
        "              activity_regularizer=keras.regularizers.L1(0.0001))\n",
        "    # encoder\n",
        "    encoder = Model(inputs, latent, name='encoder')\n",
        "    # decoder start\n",
        "    latentInputs = Input(shape=(latentDim,))\n",
        "    x = latentInputs\n",
        "    for f in filters:\n",
        "      x = Dense(units=f)(x)\n",
        "      x = BatchNormalization()(x)\n",
        "      x = LeakyReLU()(x)\n",
        "    \n",
        "    outputs = Dense(units=inputShape, activation='sigmoid')(x)\n",
        "    decoder = Model(latentInputs, outputs, name='decoder')\n",
        "    autoencoder = Model(inputs, outputs, decoder(encoder(inputs)), name='autoencoder')\n",
        "    return (encoder, decoder, autoencoder)"
      ],
      "metadata": {
        "id": "HwPKFBXRjPnb"
      },
      "execution_count": null,
      "outputs": []
    },
    {
      "cell_type": "markdown",
      "source": [
        "# The ConvAutoencoder\n"
      ],
      "metadata": {
        "id": "g3qM8KhcWe5l"
      }
    },
    {
      "cell_type": "code",
      "source": [
        "class ConvAutoencoder:\n",
        "\t@staticmethod\n",
        "\tdef build(width, height, depth, filters=(32, 64), latentDim=16):\n",
        "\t\t# initialize the input shape to be \"channels last\" along with\n",
        "\t\t# the channels dimension itself\n",
        "\t\t# channels dimension itself\n",
        "\t\tinputShape = (height, width, depth)\n",
        "\t\tchanDim = -1\n",
        "\t\t# define the input to the encoder\n",
        "\t\tinputs = Input(shape=inputShape)\n",
        "\t\tx = inputs\n",
        "\t\t# loop over the number of filters\n",
        "\t\tfor f in filters:\n",
        "\t\t\t# apply a CONV => RELU => BN operation\n",
        "\t\t\tx = Conv2D(f, (3, 3), strides=2, padding=\"same\")(x)\n",
        "\t\t\tx = LeakyReLU(alpha=0.2)(x)\n",
        "\t\t\tx = BatchNormalization(axis=chanDim)(x)\n",
        "\t\t# flatten the network and then construct our latent vector\n",
        "\t\tvolumeSize = K.int_shape(x)\n",
        "\t\tx = Flatten()(x)\n",
        "\t\tlatent = Dense(latentDim)(x)\n",
        "\t\t# build the encoder model\n",
        "\t\tencoder = Model(inputs, latent, name=\"encoder\")\n",
        "\t\t# start building the decoder model which will accept the\n",
        "\t\t# output of the encoder as its inputs\n",
        "\t\tlatentInputs = Input(shape=(latentDim,))\n",
        "\t\tx = Dense(np.prod(volumeSize[1:]))(latentInputs)\n",
        "\t\tx = Reshape((volumeSize[1], volumeSize[2], volumeSize[3]))(x)\n",
        "\t\t# loop over our number of filters again, but this time in\n",
        "\t\t# reverse order\n",
        "\t\tfor f in filters[::-1]:\n",
        "\t\t\t# apply a CONV_TRANSPOSE => RELU => BN operation\n",
        "\t\t\tx = Conv2DTranspose(f, (3, 3), strides=2,\n",
        "\t\t\t\tpadding=\"same\")(x)\n",
        "\t\t\tx = LeakyReLU(alpha=0.2)(x)\n",
        "\t\t\tx = BatchNormalization(axis=chanDim)(x)\n",
        "\t\t# apply a single CONV_TRANSPOSE layer used to recover the\n",
        "\t\t# original depth of the image\n",
        "\t\tx = Conv2DTranspose(depth, (3, 3), padding=\"same\")(x)\n",
        "\t\toutputs = Activation(\"sigmoid\")(x)\n",
        "\t\t# build the decoder model\n",
        "\t\tdecoder = Model(latentInputs, outputs, name=\"decoder\")\n",
        "\t\t# our autoencoder is the encoder + decoder\n",
        "\t\tautoencoder = Model(inputs, decoder(encoder(inputs)),\n",
        "\t\t\tname=\"autoencoder\")\n",
        "\t\t# return a 3-tuple of the encoder, decoder, and autoencoder\n",
        "\t\treturn (encoder, decoder, autoencoder)"
      ],
      "metadata": {
        "id": "R4F0w3_gVJgV"
      },
      "execution_count": null,
      "outputs": []
    },
    {
      "cell_type": "markdown",
      "source": [
        "## The test function"
      ],
      "metadata": {
        "id": "SJN6BPAAzHNH"
      }
    },
    {
      "cell_type": "markdown",
      "source": [
        "In order to use wandb we also have to login, the given key is my personal test key, feel free to use it for now"
      ],
      "metadata": {
        "id": "YpQZJsNo0I3d"
      }
    },
    {
      "cell_type": "code",
      "execution_count": null,
      "metadata": {
        "vscode": {
          "languageId": "python"
        },
        "id": "WO9pcIvWo-8y"
      },
      "outputs": [],
      "source": [
        "!pip install wandb -qqq\n",
        "import wandb\n",
        "\n",
        "wandb.login()"
      ]
    },
    {
      "cell_type": "markdown",
      "source": [
        "### Configure wandb\n",
        "In this section we'll configure sweep, one of wandb products that allows for optimal hyperparameter search."
      ],
      "metadata": {
        "id": "mXM-8Uhn10ub"
      }
    },
    {
      "cell_type": "code",
      "source": [
        "sweep_config = {\n",
        "    'method': 'random',\n",
        "    'metric': {\n",
        "        'name': 'loss',\n",
        "        'goal': 'minimize'\n",
        "    }\n",
        "}\n",
        "\n",
        "params = {\n",
        "    'epochs': {\n",
        "        'value': 30\n",
        "    },\n",
        "    'batch_size': {\n",
        "        'value': 128\n",
        "    },\n",
        "    'latent_dim': {\n",
        "        'values': [128, 32, 16]\n",
        "    },\n",
        "    'filters': {\n",
        "        'values': [(32, 64), (32, 64, 128)]\n",
        "    },\n",
        "    'learning_rate': {\n",
        "        'values': [1e-4, 1e-3, 0.01]\n",
        "    }\n",
        "}\n",
        "\n",
        "sweep_config['parameters'] = params\n"
      ],
      "metadata": {
        "id": "FSfs4uwO13dJ"
      },
      "execution_count": null,
      "outputs": []
    },
    {
      "cell_type": "markdown",
      "source": [
        "## Initialize the sweep"
      ],
      "metadata": {
        "id": "J5UrAcJS3bUI"
      }
    },
    {
      "cell_type": "code",
      "source": [
        "sweep_id = wandb.sweep(sweep_config, project=\"convDAE\")"
      ],
      "metadata": {
        "id": "WWs9TYCK3evF"
      },
      "execution_count": null,
      "outputs": []
    },
    {
      "cell_type": "markdown",
      "source": [
        "# Define the training\n"
      ],
      "metadata": {
        "id": "1sM-x-fE3piP"
      }
    },
    {
      "cell_type": "code",
      "source": [
        "def train(config=None):\n",
        "  with wandb.init(config=config):\n",
        "    config = wandb.config\n",
        "    optimizer = Adam(learning_rate = config.learning_rate)\n",
        "    # construct our convolutional autoencoder\n",
        "    print(\"[INFO] building autoencoder...\")\n",
        "    (encoder, decoder, autoencoder) = ConvAutoencoder.build(32, \n",
        "                                                            32, \n",
        "                                                            3, \n",
        "                                                            filters=config.filters, \n",
        "                                                            latentDim=config.latent_dim)\n",
        "    \n",
        "    autoencoder.compile(loss=\"mse\", optimizer=optimizer, metrics=['accuracy'])\n",
        "    # train the convolutional autoencoder\n",
        "    H = autoencoder.fit(\n",
        "\t    trainXNoisy, trainX,\n",
        "\t    validation_data=(testXNoisy, testX),\n",
        "\t    epochs=config.epochs,\n",
        "\t    batch_size=config.batch_size\n",
        "    )\n",
        "    \n",
        "    wandb.log({'epochs': config.epochs,\n",
        "                'loss': np.mean(H.history['loss']),\n",
        "                'acc': H.history['accuracy'], \n",
        "                'val_loss': np.mean(H.history['val_loss'])})\n",
        "    del encoder\n",
        "    del decoder\n",
        "    del autoencoder\n",
        "    "
      ],
      "metadata": {
        "id": "EMovZgHi3tYV"
      },
      "execution_count": null,
      "outputs": []
    },
    {
      "cell_type": "markdown",
      "source": [
        "# Run the sweeper"
      ],
      "metadata": {
        "id": "2Otan6KO614E"
      }
    },
    {
      "cell_type": "code",
      "source": [
        "wandb.agent(sweep_id, train, count=5)"
      ],
      "metadata": {
        "id": "6wnmThZ061MO"
      },
      "execution_count": null,
      "outputs": []
    }
  ]
}